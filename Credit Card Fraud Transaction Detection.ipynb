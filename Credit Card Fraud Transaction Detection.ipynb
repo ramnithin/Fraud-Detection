{
 "cells": [
  {
   "cell_type": "markdown",
   "metadata": {},
   "source": [
    "## 1: LOAD\n"
   ]
  },
  {
   "cell_type": "code",
   "execution_count": 1,
   "metadata": {},
   "outputs": [],
   "source": [
    "# Reading the json data from the file\n",
    "import json\n",
    "data = []\n",
    "with open('transactions.txt') as json_file:\n",
    "    for json_obj in json_file:\n",
    "        data.append(json.loads(json_obj))\n"
   ]
  },
  {
   "cell_type": "code",
   "execution_count": 2,
   "metadata": {},
   "outputs": [],
   "source": [
    "from IPython.display import display"
   ]
  },
  {
   "cell_type": "code",
   "execution_count": 3,
   "metadata": {},
   "outputs": [
    {
     "data": {
      "text/html": [
       "<div>\n",
       "<style scoped>\n",
       "    .dataframe tbody tr th:only-of-type {\n",
       "        vertical-align: middle;\n",
       "    }\n",
       "\n",
       "    .dataframe tbody tr th {\n",
       "        vertical-align: top;\n",
       "    }\n",
       "\n",
       "    .dataframe thead th {\n",
       "        text-align: right;\n",
       "    }\n",
       "</style>\n",
       "<table border=\"1\" class=\"dataframe\">\n",
       "  <thead>\n",
       "    <tr style=\"text-align: right;\">\n",
       "      <th></th>\n",
       "      <th>accountNumber</th>\n",
       "      <th>customerId</th>\n",
       "      <th>creditLimit</th>\n",
       "      <th>availableMoney</th>\n",
       "      <th>transactionDateTime</th>\n",
       "      <th>transactionAmount</th>\n",
       "      <th>merchantName</th>\n",
       "      <th>acqCountry</th>\n",
       "      <th>merchantCountryCode</th>\n",
       "      <th>posEntryMode</th>\n",
       "      <th>...</th>\n",
       "      <th>isFraud</th>\n",
       "      <th>echoBuffer</th>\n",
       "      <th>currentBalance</th>\n",
       "      <th>merchantCity</th>\n",
       "      <th>merchantState</th>\n",
       "      <th>merchantZip</th>\n",
       "      <th>cardPresent</th>\n",
       "      <th>posOnPremises</th>\n",
       "      <th>recurringAuthInd</th>\n",
       "      <th>expirationDateKeyInMatch</th>\n",
       "    </tr>\n",
       "  </thead>\n",
       "  <tbody>\n",
       "    <tr>\n",
       "      <td>550100</td>\n",
       "      <td>881417713</td>\n",
       "      <td>881417713</td>\n",
       "      <td>15000.0</td>\n",
       "      <td>15000.00</td>\n",
       "      <td>2016-12-10T19:48:46</td>\n",
       "      <td>223.09</td>\n",
       "      <td>gap.com</td>\n",
       "      <td>US</td>\n",
       "      <td>US</td>\n",
       "      <td>05</td>\n",
       "      <td>...</td>\n",
       "      <td>False</td>\n",
       "      <td></td>\n",
       "      <td>0.00</td>\n",
       "      <td></td>\n",
       "      <td></td>\n",
       "      <td></td>\n",
       "      <td>False</td>\n",
       "      <td></td>\n",
       "      <td></td>\n",
       "      <td>False</td>\n",
       "    </tr>\n",
       "    <tr>\n",
       "      <td>107183</td>\n",
       "      <td>513829169</td>\n",
       "      <td>513829169</td>\n",
       "      <td>250.0</td>\n",
       "      <td>218.99</td>\n",
       "      <td>2016-04-11T02:37:40</td>\n",
       "      <td>171.30</td>\n",
       "      <td>Universe Massage #511290</td>\n",
       "      <td>US</td>\n",
       "      <td>US</td>\n",
       "      <td>90</td>\n",
       "      <td>...</td>\n",
       "      <td>False</td>\n",
       "      <td></td>\n",
       "      <td>31.01</td>\n",
       "      <td></td>\n",
       "      <td></td>\n",
       "      <td></td>\n",
       "      <td>True</td>\n",
       "      <td></td>\n",
       "      <td></td>\n",
       "      <td>False</td>\n",
       "    </tr>\n",
       "    <tr>\n",
       "      <td>290867</td>\n",
       "      <td>719873381</td>\n",
       "      <td>719873381</td>\n",
       "      <td>2500.0</td>\n",
       "      <td>1574.87</td>\n",
       "      <td>2016-02-16T16:17:36</td>\n",
       "      <td>0.00</td>\n",
       "      <td>Domino's Pizza #409031</td>\n",
       "      <td>US</td>\n",
       "      <td>US</td>\n",
       "      <td>05</td>\n",
       "      <td>...</td>\n",
       "      <td>False</td>\n",
       "      <td></td>\n",
       "      <td>925.13</td>\n",
       "      <td></td>\n",
       "      <td></td>\n",
       "      <td></td>\n",
       "      <td>False</td>\n",
       "      <td></td>\n",
       "      <td></td>\n",
       "      <td>False</td>\n",
       "    </tr>\n",
       "    <tr>\n",
       "      <td>557296</td>\n",
       "      <td>902454138</td>\n",
       "      <td>902454138</td>\n",
       "      <td>7500.0</td>\n",
       "      <td>6852.78</td>\n",
       "      <td>2016-11-04T16:12:34</td>\n",
       "      <td>138.42</td>\n",
       "      <td>Mobile eCards</td>\n",
       "      <td>US</td>\n",
       "      <td>US</td>\n",
       "      <td>09</td>\n",
       "      <td>...</td>\n",
       "      <td>False</td>\n",
       "      <td></td>\n",
       "      <td>647.22</td>\n",
       "      <td></td>\n",
       "      <td></td>\n",
       "      <td></td>\n",
       "      <td>False</td>\n",
       "      <td></td>\n",
       "      <td></td>\n",
       "      <td>False</td>\n",
       "    </tr>\n",
       "    <tr>\n",
       "      <td>455506</td>\n",
       "      <td>263347919</td>\n",
       "      <td>263347919</td>\n",
       "      <td>20000.0</td>\n",
       "      <td>1804.95</td>\n",
       "      <td>2016-03-29T03:59:59</td>\n",
       "      <td>72.89</td>\n",
       "      <td>Boston Cafe #465229</td>\n",
       "      <td>US</td>\n",
       "      <td>US</td>\n",
       "      <td>02</td>\n",
       "      <td>...</td>\n",
       "      <td>False</td>\n",
       "      <td></td>\n",
       "      <td>18195.05</td>\n",
       "      <td></td>\n",
       "      <td></td>\n",
       "      <td></td>\n",
       "      <td>True</td>\n",
       "      <td></td>\n",
       "      <td></td>\n",
       "      <td>False</td>\n",
       "    </tr>\n",
       "    <tr>\n",
       "      <td>162377</td>\n",
       "      <td>791293920</td>\n",
       "      <td>791293920</td>\n",
       "      <td>10000.0</td>\n",
       "      <td>7937.62</td>\n",
       "      <td>2016-02-25T15:27:41</td>\n",
       "      <td>7.96</td>\n",
       "      <td>Pizza Hut #126119</td>\n",
       "      <td>US</td>\n",
       "      <td>US</td>\n",
       "      <td>09</td>\n",
       "      <td>...</td>\n",
       "      <td>False</td>\n",
       "      <td></td>\n",
       "      <td>2062.38</td>\n",
       "      <td></td>\n",
       "      <td></td>\n",
       "      <td></td>\n",
       "      <td>True</td>\n",
       "      <td></td>\n",
       "      <td></td>\n",
       "      <td>False</td>\n",
       "    </tr>\n",
       "    <tr>\n",
       "      <td>42094</td>\n",
       "      <td>918205645</td>\n",
       "      <td>918205645</td>\n",
       "      <td>500.0</td>\n",
       "      <td>197.51</td>\n",
       "      <td>2016-05-11T21:01:01</td>\n",
       "      <td>54.90</td>\n",
       "      <td>KFC #765212</td>\n",
       "      <td>US</td>\n",
       "      <td>US</td>\n",
       "      <td>09</td>\n",
       "      <td>...</td>\n",
       "      <td>False</td>\n",
       "      <td></td>\n",
       "      <td>302.49</td>\n",
       "      <td></td>\n",
       "      <td></td>\n",
       "      <td></td>\n",
       "      <td>True</td>\n",
       "      <td></td>\n",
       "      <td></td>\n",
       "      <td>False</td>\n",
       "    </tr>\n",
       "    <tr>\n",
       "      <td>543395</td>\n",
       "      <td>360137532</td>\n",
       "      <td>360137532</td>\n",
       "      <td>15000.0</td>\n",
       "      <td>7218.45</td>\n",
       "      <td>2016-09-06T12:32:32</td>\n",
       "      <td>233.19</td>\n",
       "      <td>Next Day Online Services</td>\n",
       "      <td>US</td>\n",
       "      <td>US</td>\n",
       "      <td>02</td>\n",
       "      <td>...</td>\n",
       "      <td>False</td>\n",
       "      <td></td>\n",
       "      <td>7781.55</td>\n",
       "      <td></td>\n",
       "      <td></td>\n",
       "      <td></td>\n",
       "      <td>False</td>\n",
       "      <td></td>\n",
       "      <td></td>\n",
       "      <td>False</td>\n",
       "    </tr>\n",
       "    <tr>\n",
       "      <td>9656</td>\n",
       "      <td>543046230</td>\n",
       "      <td>543046230</td>\n",
       "      <td>15000.0</td>\n",
       "      <td>14824.08</td>\n",
       "      <td>2016-04-28T11:45:16</td>\n",
       "      <td>9.79</td>\n",
       "      <td>netflix.com</td>\n",
       "      <td>US</td>\n",
       "      <td>US</td>\n",
       "      <td>05</td>\n",
       "      <td>...</td>\n",
       "      <td>False</td>\n",
       "      <td></td>\n",
       "      <td>175.92</td>\n",
       "      <td></td>\n",
       "      <td></td>\n",
       "      <td></td>\n",
       "      <td>False</td>\n",
       "      <td></td>\n",
       "      <td></td>\n",
       "      <td>False</td>\n",
       "    </tr>\n",
       "    <tr>\n",
       "      <td>393573</td>\n",
       "      <td>711990261</td>\n",
       "      <td>711990261</td>\n",
       "      <td>1000.0</td>\n",
       "      <td>829.89</td>\n",
       "      <td>2016-01-10T14:11:22</td>\n",
       "      <td>0.00</td>\n",
       "      <td>Fresh eCards</td>\n",
       "      <td>US</td>\n",
       "      <td>US</td>\n",
       "      <td>02</td>\n",
       "      <td>...</td>\n",
       "      <td>False</td>\n",
       "      <td></td>\n",
       "      <td>170.11</td>\n",
       "      <td></td>\n",
       "      <td></td>\n",
       "      <td></td>\n",
       "      <td>False</td>\n",
       "      <td></td>\n",
       "      <td></td>\n",
       "      <td>False</td>\n",
       "    </tr>\n",
       "  </tbody>\n",
       "</table>\n",
       "<p>10 rows × 29 columns</p>\n",
       "</div>"
      ],
      "text/plain": [
       "       accountNumber customerId  creditLimit  availableMoney  \\\n",
       "550100     881417713  881417713      15000.0        15000.00   \n",
       "107183     513829169  513829169        250.0          218.99   \n",
       "290867     719873381  719873381       2500.0         1574.87   \n",
       "557296     902454138  902454138       7500.0         6852.78   \n",
       "455506     263347919  263347919      20000.0         1804.95   \n",
       "162377     791293920  791293920      10000.0         7937.62   \n",
       "42094      918205645  918205645        500.0          197.51   \n",
       "543395     360137532  360137532      15000.0         7218.45   \n",
       "9656       543046230  543046230      15000.0        14824.08   \n",
       "393573     711990261  711990261       1000.0          829.89   \n",
       "\n",
       "        transactionDateTime  transactionAmount              merchantName  \\\n",
       "550100  2016-12-10T19:48:46             223.09                   gap.com   \n",
       "107183  2016-04-11T02:37:40             171.30  Universe Massage #511290   \n",
       "290867  2016-02-16T16:17:36               0.00    Domino's Pizza #409031   \n",
       "557296  2016-11-04T16:12:34             138.42             Mobile eCards   \n",
       "455506  2016-03-29T03:59:59              72.89       Boston Cafe #465229   \n",
       "162377  2016-02-25T15:27:41               7.96         Pizza Hut #126119   \n",
       "42094   2016-05-11T21:01:01              54.90               KFC #765212   \n",
       "543395  2016-09-06T12:32:32             233.19  Next Day Online Services   \n",
       "9656    2016-04-28T11:45:16               9.79               netflix.com   \n",
       "393573  2016-01-10T14:11:22               0.00              Fresh eCards   \n",
       "\n",
       "       acqCountry merchantCountryCode posEntryMode  ... isFraud echoBuffer  \\\n",
       "550100         US                  US           05  ...   False              \n",
       "107183         US                  US           90  ...   False              \n",
       "290867         US                  US           05  ...   False              \n",
       "557296         US                  US           09  ...   False              \n",
       "455506         US                  US           02  ...   False              \n",
       "162377         US                  US           09  ...   False              \n",
       "42094          US                  US           09  ...   False              \n",
       "543395         US                  US           02  ...   False              \n",
       "9656           US                  US           05  ...   False              \n",
       "393573         US                  US           02  ...   False              \n",
       "\n",
       "       currentBalance merchantCity merchantState merchantZip cardPresent  \\\n",
       "550100           0.00                                              False   \n",
       "107183          31.01                                               True   \n",
       "290867         925.13                                              False   \n",
       "557296         647.22                                              False   \n",
       "455506       18195.05                                               True   \n",
       "162377        2062.38                                               True   \n",
       "42094          302.49                                               True   \n",
       "543395        7781.55                                              False   \n",
       "9656           175.92                                              False   \n",
       "393573         170.11                                              False   \n",
       "\n",
       "       posOnPremises recurringAuthInd  expirationDateKeyInMatch  \n",
       "550100                                                    False  \n",
       "107183                                                    False  \n",
       "290867                                                    False  \n",
       "557296                                                    False  \n",
       "455506                                                    False  \n",
       "162377                                                    False  \n",
       "42094                                                     False  \n",
       "543395                                                    False  \n",
       "9656                                                      False  \n",
       "393573                                                    False  \n",
       "\n",
       "[10 rows x 29 columns]"
      ]
     },
     "execution_count": 3,
     "metadata": {},
     "output_type": "execute_result"
    }
   ],
   "source": [
    "# Converting json object into a pandas dataframe\n",
    "import pandas as pd\n",
    "df = pd.DataFrame.from_records(data)\n",
    "\n",
    "# Sample 10 records from the data\n",
    "df.sample(10)"
   ]
  },
  {
   "cell_type": "code",
   "execution_count": 4,
   "metadata": {},
   "outputs": [
    {
     "name": "stdout",
     "output_type": "stream",
     "text": [
      "The number of fields in the given data is : 29\n",
      "The number of records in the given data is : 641914\n"
     ]
    }
   ],
   "source": [
    "# the number of fields and the number of records in the data\n",
    "print(\"The number of fields in the given data is :\", df.shape[1])\n",
    "print(\"The number of records in the given data is :\",df.shape[0])"
   ]
  },
  {
   "cell_type": "code",
   "execution_count": 5,
   "metadata": {},
   "outputs": [
    {
     "data": {
      "text/plain": [
       "Index(['accountNumber', 'customerId', 'creditLimit', 'availableMoney',\n",
       "       'transactionDateTime', 'transactionAmount', 'merchantName',\n",
       "       'acqCountry', 'merchantCountryCode', 'posEntryMode', 'posConditionCode',\n",
       "       'merchantCategoryCode', 'currentExpDate', 'accountOpenDate',\n",
       "       'dateOfLastAddressChange', 'cardCVV', 'enteredCVV', 'cardLast4Digits',\n",
       "       'transactionType', 'isFraud', 'echoBuffer', 'currentBalance',\n",
       "       'merchantCity', 'merchantState', 'merchantZip', 'cardPresent',\n",
       "       'posOnPremises', 'recurringAuthInd', 'expirationDateKeyInMatch'],\n",
       "      dtype='object')"
      ]
     },
     "execution_count": 5,
     "metadata": {},
     "output_type": "execute_result"
    }
   ],
   "source": [
    "df.columns"
   ]
  },
  {
   "cell_type": "code",
   "execution_count": 6,
   "metadata": {},
   "outputs": [
    {
     "data": {
      "text/html": [
       "<div>\n",
       "<style scoped>\n",
       "    .dataframe tbody tr th:only-of-type {\n",
       "        vertical-align: middle;\n",
       "    }\n",
       "\n",
       "    .dataframe tbody tr th {\n",
       "        vertical-align: top;\n",
       "    }\n",
       "\n",
       "    .dataframe thead th {\n",
       "        text-align: right;\n",
       "    }\n",
       "</style>\n",
       "<table border=\"1\" class=\"dataframe\">\n",
       "  <thead>\n",
       "    <tr style=\"text-align: right;\">\n",
       "      <th></th>\n",
       "      <th>creditLimit</th>\n",
       "      <th>availableMoney</th>\n",
       "      <th>transactionAmount</th>\n",
       "      <th>currentBalance</th>\n",
       "    </tr>\n",
       "  </thead>\n",
       "  <tbody>\n",
       "    <tr>\n",
       "      <td>count</td>\n",
       "      <td>641914.000000</td>\n",
       "      <td>641914.000000</td>\n",
       "      <td>641914.000000</td>\n",
       "      <td>641914.000000</td>\n",
       "    </tr>\n",
       "    <tr>\n",
       "      <td>mean</td>\n",
       "      <td>10697.210608</td>\n",
       "      <td>6652.828573</td>\n",
       "      <td>135.162497</td>\n",
       "      <td>4044.382035</td>\n",
       "    </tr>\n",
       "    <tr>\n",
       "      <td>std</td>\n",
       "      <td>11460.359133</td>\n",
       "      <td>9227.132275</td>\n",
       "      <td>147.053302</td>\n",
       "      <td>5945.510224</td>\n",
       "    </tr>\n",
       "    <tr>\n",
       "      <td>min</td>\n",
       "      <td>250.000000</td>\n",
       "      <td>-1244.930000</td>\n",
       "      <td>0.000000</td>\n",
       "      <td>0.000000</td>\n",
       "    </tr>\n",
       "    <tr>\n",
       "      <td>25%</td>\n",
       "      <td>5000.000000</td>\n",
       "      <td>1114.970000</td>\n",
       "      <td>32.320000</td>\n",
       "      <td>502.442500</td>\n",
       "    </tr>\n",
       "    <tr>\n",
       "      <td>50%</td>\n",
       "      <td>7500.000000</td>\n",
       "      <td>3578.165000</td>\n",
       "      <td>85.800000</td>\n",
       "      <td>2151.860000</td>\n",
       "    </tr>\n",
       "    <tr>\n",
       "      <td>75%</td>\n",
       "      <td>15000.000000</td>\n",
       "      <td>8169.185000</td>\n",
       "      <td>189.030000</td>\n",
       "      <td>5005.890000</td>\n",
       "    </tr>\n",
       "    <tr>\n",
       "      <td>max</td>\n",
       "      <td>50000.000000</td>\n",
       "      <td>50000.000000</td>\n",
       "      <td>1825.250000</td>\n",
       "      <td>47496.500000</td>\n",
       "    </tr>\n",
       "  </tbody>\n",
       "</table>\n",
       "</div>"
      ],
      "text/plain": [
       "         creditLimit  availableMoney  transactionAmount  currentBalance\n",
       "count  641914.000000   641914.000000      641914.000000   641914.000000\n",
       "mean    10697.210608     6652.828573         135.162497     4044.382035\n",
       "std     11460.359133     9227.132275         147.053302     5945.510224\n",
       "min       250.000000    -1244.930000           0.000000        0.000000\n",
       "25%      5000.000000     1114.970000          32.320000      502.442500\n",
       "50%      7500.000000     3578.165000          85.800000     2151.860000\n",
       "75%     15000.000000     8169.185000         189.030000     5005.890000\n",
       "max     50000.000000    50000.000000        1825.250000    47496.500000"
      ]
     },
     "execution_count": 6,
     "metadata": {},
     "output_type": "execute_result"
    }
   ],
   "source": [
    "# The summary statistics of numerical variables in the data\n",
    "df_numerical = df[['creditLimit','availableMoney','transactionAmount','currentBalance']]\n",
    "df_numerical.describe()"
   ]
  },
  {
   "cell_type": "code",
   "execution_count": 7,
   "metadata": {},
   "outputs": [
    {
     "data": {
      "text/html": [
       "<div>\n",
       "<style scoped>\n",
       "    .dataframe tbody tr th:only-of-type {\n",
       "        vertical-align: middle;\n",
       "    }\n",
       "\n",
       "    .dataframe tbody tr th {\n",
       "        vertical-align: top;\n",
       "    }\n",
       "\n",
       "    .dataframe thead th {\n",
       "        text-align: right;\n",
       "    }\n",
       "</style>\n",
       "<table border=\"1\" class=\"dataframe\">\n",
       "  <thead>\n",
       "    <tr style=\"text-align: right;\">\n",
       "      <th></th>\n",
       "      <th>accountNumber</th>\n",
       "      <th>accountOpenDate</th>\n",
       "      <th>acqCountry</th>\n",
       "      <th>cardCVV</th>\n",
       "      <th>cardLast4Digits</th>\n",
       "      <th>cardPresent</th>\n",
       "      <th>currentExpDate</th>\n",
       "      <th>customerId</th>\n",
       "      <th>dateOfLastAddressChange</th>\n",
       "      <th>echoBuffer</th>\n",
       "      <th>...</th>\n",
       "      <th>merchantCountryCode</th>\n",
       "      <th>merchantName</th>\n",
       "      <th>merchantState</th>\n",
       "      <th>merchantZip</th>\n",
       "      <th>posConditionCode</th>\n",
       "      <th>posEntryMode</th>\n",
       "      <th>posOnPremises</th>\n",
       "      <th>recurringAuthInd</th>\n",
       "      <th>transactionDateTime</th>\n",
       "      <th>transactionType</th>\n",
       "    </tr>\n",
       "  </thead>\n",
       "  <tbody>\n",
       "    <tr>\n",
       "      <td>count</td>\n",
       "      <td>641914</td>\n",
       "      <td>641914</td>\n",
       "      <td>641914</td>\n",
       "      <td>641914</td>\n",
       "      <td>641914</td>\n",
       "      <td>641914</td>\n",
       "      <td>641914</td>\n",
       "      <td>641914</td>\n",
       "      <td>641914</td>\n",
       "      <td>641914</td>\n",
       "      <td>...</td>\n",
       "      <td>641914</td>\n",
       "      <td>641914</td>\n",
       "      <td>641914</td>\n",
       "      <td>641914</td>\n",
       "      <td>641914</td>\n",
       "      <td>641914</td>\n",
       "      <td>641914</td>\n",
       "      <td>641914</td>\n",
       "      <td>641914</td>\n",
       "      <td>641914</td>\n",
       "    </tr>\n",
       "    <tr>\n",
       "      <td>unique</td>\n",
       "      <td>5000</td>\n",
       "      <td>1826</td>\n",
       "      <td>5</td>\n",
       "      <td>899</td>\n",
       "      <td>5134</td>\n",
       "      <td>2</td>\n",
       "      <td>165</td>\n",
       "      <td>5000</td>\n",
       "      <td>2186</td>\n",
       "      <td>1</td>\n",
       "      <td>...</td>\n",
       "      <td>5</td>\n",
       "      <td>2493</td>\n",
       "      <td>1</td>\n",
       "      <td>1</td>\n",
       "      <td>4</td>\n",
       "      <td>6</td>\n",
       "      <td>1</td>\n",
       "      <td>1</td>\n",
       "      <td>635472</td>\n",
       "      <td>4</td>\n",
       "    </tr>\n",
       "    <tr>\n",
       "      <td>top</td>\n",
       "      <td>318001076</td>\n",
       "      <td>2015-12-11</td>\n",
       "      <td>US</td>\n",
       "      <td>633</td>\n",
       "      <td>1789</td>\n",
       "      <td>False</td>\n",
       "      <td>05/2026</td>\n",
       "      <td>318001076</td>\n",
       "      <td>2016-07-20</td>\n",
       "      <td></td>\n",
       "      <td>...</td>\n",
       "      <td>US</td>\n",
       "      <td>Lyft</td>\n",
       "      <td></td>\n",
       "      <td></td>\n",
       "      <td>01</td>\n",
       "      <td>05</td>\n",
       "      <td></td>\n",
       "      <td></td>\n",
       "      <td>2016-07-19T13:03:15</td>\n",
       "      <td>PURCHASE</td>\n",
       "    </tr>\n",
       "    <tr>\n",
       "      <td>freq</td>\n",
       "      <td>10034</td>\n",
       "      <td>10137</td>\n",
       "      <td>632303</td>\n",
       "      <td>11354</td>\n",
       "      <td>10034</td>\n",
       "      <td>340453</td>\n",
       "      <td>4209</td>\n",
       "      <td>10034</td>\n",
       "      <td>3948</td>\n",
       "      <td>641914</td>\n",
       "      <td>...</td>\n",
       "      <td>635577</td>\n",
       "      <td>25311</td>\n",
       "      <td>641914</td>\n",
       "      <td>641914</td>\n",
       "      <td>514144</td>\n",
       "      <td>255615</td>\n",
       "      <td>641914</td>\n",
       "      <td>641914</td>\n",
       "      <td>3</td>\n",
       "      <td>608685</td>\n",
       "    </tr>\n",
       "  </tbody>\n",
       "</table>\n",
       "<p>4 rows × 25 columns</p>\n",
       "</div>"
      ],
      "text/plain": [
       "       accountNumber accountOpenDate acqCountry cardCVV cardLast4Digits  \\\n",
       "count         641914          641914     641914  641914          641914   \n",
       "unique          5000            1826          5     899            5134   \n",
       "top        318001076      2015-12-11         US     633            1789   \n",
       "freq           10034           10137     632303   11354           10034   \n",
       "\n",
       "       cardPresent currentExpDate customerId dateOfLastAddressChange  \\\n",
       "count       641914         641914     641914                  641914   \n",
       "unique           2            165       5000                    2186   \n",
       "top          False        05/2026  318001076              2016-07-20   \n",
       "freq        340453           4209      10034                    3948   \n",
       "\n",
       "       echoBuffer  ... merchantCountryCode merchantName merchantState  \\\n",
       "count      641914  ...              641914       641914        641914   \n",
       "unique          1  ...                   5         2493             1   \n",
       "top                ...                  US         Lyft                 \n",
       "freq       641914  ...              635577        25311        641914   \n",
       "\n",
       "       merchantZip posConditionCode posEntryMode posOnPremises  \\\n",
       "count       641914           641914       641914        641914   \n",
       "unique           1                4            6             1   \n",
       "top                              01           05                 \n",
       "freq        641914           514144       255615        641914   \n",
       "\n",
       "       recurringAuthInd  transactionDateTime transactionType  \n",
       "count            641914               641914          641914  \n",
       "unique                1               635472               4  \n",
       "top                      2016-07-19T13:03:15        PURCHASE  \n",
       "freq             641914                    3          608685  \n",
       "\n",
       "[4 rows x 25 columns]"
      ]
     },
     "execution_count": 7,
     "metadata": {},
     "output_type": "execute_result"
    }
   ],
   "source": [
    "# The summary statistics of categorical variables in the data\n",
    "df.columns.difference(['b'])\n",
    "df_categorical = df[df.columns.difference(['creditLimit','availableMoney','transactionAmount','currentBalance'])]\n",
    "df_categorical.describe(include='all')\n",
    "\n"
   ]
  },
  {
   "cell_type": "markdown",
   "metadata": {},
   "source": [
    "The Categorical Variables echoBuffer, merchantCity, merchantState, merchantZip, posOnPremises, recurringAuthInd have no values at all"
   ]
  },
  {
   "cell_type": "markdown",
   "metadata": {},
   "source": [
    "## 2: PLOT"
   ]
  },
  {
   "cell_type": "code",
   "execution_count": 8,
   "metadata": {},
   "outputs": [
    {
     "name": "stdout",
     "output_type": "stream",
     "text": [
      "Statictics for the transaction amount in the given data\n",
      "count    641914.000000\n",
      "mean        135.162497\n",
      "std         147.053302\n",
      "min           0.000000\n",
      "25%          32.320000\n",
      "50%          85.800000\n",
      "75%         189.030000\n",
      "max        1825.250000\n",
      "Name: transactionAmount, dtype: float64\n"
     ]
    },
    {
     "data": {
      "image/png": "[encoded data removed]",
      "text/plain": [
       "<Figure size 720x360 with 1 Axes>"
      ]
     },
     "metadata": {
      "needs_background": "light"
     },
     "output_type": "display_data"
    }
   ],
   "source": [
    "%matplotlib inline\n",
    "import matplotlib.pyplot as plt\n",
    "# plot the histogram of processed amounts\n",
    "plt.figure(figsize=(10,5))\n",
    "hist1 = df['transactionAmount'].hist(range=[0,1000])\n",
    "hist1.set_xlabel('Transaction Amount')\n",
    "hist1.set_ylabel('Number of customers')\n",
    "print('Statictics for the transaction amount in the given data')\n",
    "print(df['transactionAmount'].describe())\n"
   ]
  },
  {
   "cell_type": "markdown",
   "metadata": {},
   "source": [
    "75% of the transactions made by the customers are less than 189$. The credit card is being used majorly for small transactions. There is a downward trend in the number of customers as the transaction amount increases."
   ]
  },
  {
   "cell_type": "code",
   "execution_count": 9,
   "metadata": {
    "scrolled": false
   },
   "outputs": [
    {
     "name": "stdout",
     "output_type": "stream",
     "text": [
      "The statistics for the transaction amount is:\n",
      " count    5.000000e+03\n",
      "mean     1.735254e+04\n",
      "std      4.973709e+04\n",
      "min      0.000000e+00\n",
      "25%      1.897335e+03\n",
      "50%      5.295595e+03\n",
      "75%      1.436336e+04\n",
      "max      1.457471e+06\n",
      "dtype: float64\n"
     ]
    },
    {
     "data": {
      "image/png": "[encoded data removed]",
      "text/plain": [
       "<Figure size 1440x360 with 1 Axes>"
      ]
     },
     "metadata": {
      "needs_background": "light"
     },
     "output_type": "display_data"
    }
   ],
   "source": [
    "# grouping the transaction amount by each customer\n",
    "import matplotlib.pyplot as plt\n",
    "transactionAmt = df.groupby(['customerId']).sum()['transactionAmount'].values\n",
    "creditLimit = df.groupby(['customerId'])['creditLimit'].first().values\n",
    "\n",
    "minAmt = int(min(transactionAmt))\n",
    "maxAmt = int(max(transactionAmt))\n",
    "\n",
    "\n",
    "plt.figure(figsize=(20,5))\n",
    "plt.subplot(1,2,1)\n",
    "hist1 = pd.Series(transactionAmt).hist(range=[minAmt,20000])\n",
    "# for axis in hist1.flatten():\n",
    "hist1.set_xlabel('Transaction Amount')\n",
    "hist1.set_ylabel('Number of customers')\n",
    "\n",
    "# plt.subplot(1,2,2)\n",
    "# hist2 = pd.Series(creditLimit).hist(range=[minAmt,20000])\n",
    "\n",
    "print('The statistics for the transaction amount is:\\n',pd.Series(transactionAmt).describe())"
   ]
  },
  {
   "cell_type": "markdown",
   "metadata": {},
   "source": [
    "The above plot shows the histogram of the total processed amount by each customer. There is a downward trend in the transaction amount by customers. As the amount increases, the number of customers making a total transaction of that amount are decreasing."
   ]
  },
  {
   "cell_type": "markdown",
   "metadata": {},
   "source": [
    "## 3: Data Wrangling - Duplicate Transactions"
   ]
  },
  {
   "cell_type": "code",
   "execution_count": 10,
   "metadata": {},
   "outputs": [
    {
     "name": "stdout",
     "output_type": "stream",
     "text": [
      "The total number of reversed transaction is : 4664\n",
      "The total amount estimated for the reversed transaction is : 625698.93\n"
     ]
    }
   ],
   "source": [
    "import numpy as np\n",
    "def identify_reverse_transactions(df):\n",
    "    df['currentBalanceDiff'] = df['currentBalance'].diff()\n",
    "    index = df[df['currentBalanceDiff']<0].index\n",
    "    thirdTransaction = df.loc[index].reset_index(drop=True)\n",
    "    index = index - 1\n",
    "    secondTransaction = df.loc[index].reset_index(drop=True)\n",
    "    index = index - 1\n",
    "    firstTransaction = df.loc[index].reset_index(drop=True)\n",
    "    return secondTransaction.where((firstTransaction['merchantName']==secondTransaction['merchantName'])&(thirdTransaction['currentBalanceDiff']==-1*secondTransaction['currentBalanceDiff'])).dropna()\n",
    "\n",
    "\n",
    "df['transactionDateTime'] = pd.to_datetime(df['transactionDateTime'])\n",
    "\n",
    "\n",
    "reversedTransactions = identify_reverse_transactions(df)\n",
    "reversedTransactions.to_csv('ReversedTransactions.txt',sep='\\t')\n",
    "print(\"The total number of reversed transaction is :\",reversedTransactions.shape[0])\n",
    "print(\"The total amount estimated for the reversed transaction is :\",reversedTransactions['transactionAmount'].sum())\n",
    "# &((secondTransaction['transactionDateTime']-firstTransaction['transactionDateTime'])/np.timedelta64(1,'s')<180)"
   ]
  },
  {
   "cell_type": "markdown",
   "metadata": {},
   "source": [
    "To get all the reversed transactions,firstly, the difference in the currentBalance of that row and the previous row is obtained. The general trend in the currentBalance is that the balance should increase with the customer doing the transaction.But when the transaction is reversed the currentBalance will decrease because the money is creditted back to the account. So the difference between the current row balance and the previous row balance will be negative. So all such rows are retrieved, but the difference will be negative only after the  reverse transaction is completed that is in the next row where the currentBalance is updated. So the previous two rows are taken and where the reverse transaction actually happened. The merchant''s name is validated and if they are the same and the currentBalanceDiff after the first transaction and second transaction is the same but negative to each other, then the transaction is a reversed transaction."
   ]
  },
  {
   "cell_type": "code",
   "execution_count": 11,
   "metadata": {},
   "outputs": [
    {
     "name": "stdout",
     "output_type": "stream",
     "text": [
      "The total number of multiswipe transactions is : 3608\n",
      "The total amount estimated for the multiswipe transaction is : 510301.72\n"
     ]
    }
   ],
   "source": [
    "def identify_multiswipe_transactions(df):\n",
    "    df['currentBalanceDiff'] = df['currentBalance'].diff()\n",
    "    df['transactionAmountDiff'] = df['transactionAmount'].diff()\n",
    "    index = df[df['transactionAmountDiff']==0].index\n",
    "    secondTransaction = df.loc[index].reset_index(drop=True)\n",
    "    index = index-1\n",
    "    firstTransaction = df.loc[index].reset_index(drop=True)\n",
    "    index = index+2\n",
    "    thirdTransaction = df.loc[index].reset_index(drop=True)\n",
    "    return firstTransaction,secondTransaction,thirdTransaction\n",
    "\n",
    "one, two, three = identify_multiswipe_transactions(df)\n",
    "multiswipe = two.where((one['merchantName']==two['merchantName'])&(three['currentBalance']>two['currentBalance'])&((two['transactionDateTime']-one['transactionDateTime'])//np.timedelta64(1,'s')<120)).dropna()\n",
    "multiswipe.to_csv('MultiSwipeTransactions.txt',sep='\\t')\n",
    "\n",
    "print(\"The total number of multiswipe transactions is :\",multiswipe.shape[0])\n",
    "print(\"The total amount estimated for the multiswipe transaction is :\",multiswipe['transactionAmount'].sum())"
   ]
  },
  {
   "cell_type": "markdown",
   "metadata": {},
   "source": [
    " In this scenario, the transaction happening accidentally and the vendor charges the customer''s card multiple times within a short period of time. To retrieve such a scenario, the difference in the transaction amount within the same column is taken with the help of a diff function. The row where the difference is zero is considered, because the amount in the above transaction will also be the same due of the multi swipe scenario. The merchants of the previous row and the current row is validated to be the same or not. Also the time stamp between the first and second should be very less. I have taken it to be within 2 minutes. A one more condition needs to be satisfied. The currentBalance after the multi swipe should be greater than the currentbalance of the last before transaction, otherwise it might be a case of a reverse transaction. "
   ]
  },
  {
   "cell_type": "markdown",
   "metadata": {},
   "source": [
    "## 4: Model"
   ]
  },
  {
   "cell_type": "code",
   "execution_count": 12,
   "metadata": {},
   "outputs": [],
   "source": [
    "#droppping columns that were used for second and third question\n",
    "df = df.drop(\"transactionAmountDiff\", axis=1)\n",
    "df = df.drop(\"currentBalanceDiff\", axis=1)"
   ]
  },
  {
   "cell_type": "code",
   "execution_count": 13,
   "metadata": {},
   "outputs": [],
   "source": [
    "#dropping all these columns as they do not have any data in them\n",
    "# df = df.drop('echoBuffer',axis =1)\n",
    "# df = df.drop('merchantCity',axis =1)\n",
    "# df = df.drop('merchantState',axis =1)\n",
    "# df = df.drop('merchantZip',axis =1)\n",
    "# df = df.drop('posOnPremises',axis =1)\n",
    "# df = df.drop('recurringAuthInd',axis =1)"
   ]
  },
  {
   "cell_type": "code",
   "execution_count": 14,
   "metadata": {},
   "outputs": [
    {
     "data": {
      "text/plain": [
       "Text(0, 0.5, 'count')"
      ]
     },
     "execution_count": 14,
     "metadata": {},
     "output_type": "execute_result"
    },
    {
     "data": {
      "image/png": "[encoded data removed]",
      "text/plain": [
       "<Figure size 432x288 with 1 Axes>"
      ]
     },
     "metadata": {
      "needs_background": "light"
     },
     "output_type": "display_data"
    }
   ],
   "source": [
    "pd.value_counts(df['isFraud']).plot.bar()\n",
    "plt.title('Fraud classes histogram')\n",
    "plt.xlabel('IsFraud')\n",
    "plt.ylabel('count')"
   ]
  },
  {
   "cell_type": "code",
   "execution_count": 15,
   "metadata": {},
   "outputs": [],
   "source": [
    "# Label Encoding the categorical variables\n",
    "from sklearn import preprocessing\n",
    "le_array = []\n",
    "\n",
    "categorical_columns = ['merchantName','acqCountry','merchantCountryCode','posEntryMode','posConditionCode','merchantCategoryCode','transactionType','cardPresent','expirationDateKeyInMatch']\n",
    "# categorical_columns = ['merchantName','posEntryMode','posConditionCode','cardPresent']\n",
    "\n",
    "for i in categorical_columns:\n",
    "    le = preprocessing.LabelEncoder()\n",
    "    le.fit(df[i])\n",
    "    df[i] = le.transform(df[i])\n",
    "    le_array.append(le)\n",
    "\n",
    "categorical_data = df[categorical_columns]\n"
   ]
  },
  {
   "cell_type": "code",
   "execution_count": 16,
   "metadata": {},
   "outputs": [
    {
     "data": {
      "text/plain": [
       "<matplotlib.axes._subplots.AxesSubplot at 0x2a0d62b0a48>"
      ]
     },
     "execution_count": 16,
     "metadata": {},
     "output_type": "execute_result"
    },
    {
     "data": {
      "image/png": "[encoded data removed]",
      "text/plain": [
       "<Figure size 432x288 with 1 Axes>"
      ]
     },
     "metadata": {
      "needs_background": "light"
     },
     "output_type": "display_data"
    }
   ],
   "source": [
    "# Appyling chi-square test on the categorical variables. More the p-value, more independent from the target variable, so categorical \n",
    "# variables with large p-values can be ignored.\n",
    "\n",
    "from sklearn.feature_selection import chi2\n",
    "chi_scores = chi2(categorical_data,df['isFraud'])\n",
    "p_values = pd.Series(chi_scores[1],index = categorical_columns)\n",
    "p_values.sort_values(ascending = False , inplace = True)\n",
    "p_values.plot.bar()"
   ]
  },
  {
   "cell_type": "code",
   "execution_count": 17,
   "metadata": {},
   "outputs": [
    {
     "data": {
      "text/plain": [
       "<matplotlib.axes._subplots.AxesSubplot at 0x2a0d6356488>"
      ]
     },
     "execution_count": 17,
     "metadata": {},
     "output_type": "execute_result"
    },
    {
     "data": {
      "image/png": "[encoded data removed]",
      "text/plain": [
       "<Figure size 432x288 with 1 Axes>"
      ]
     },
     "metadata": {
      "needs_background": "light"
     },
     "output_type": "display_data"
    }
   ],
   "source": [
    "categorical_columns = ['merchantName','posEntryMode','posConditionCode','cardPresent']\n",
    "categorical_data = df[categorical_columns]\n",
    "\n",
    "chi_scores = chi2(categorical_data,df['isFraud'])\n",
    "p_values = pd.Series(chi_scores[1],index = categorical_columns)\n",
    "p_values.sort_values(ascending = False , inplace = True)\n",
    "p_values.plot.bar()"
   ]
  },
  {
   "cell_type": "code",
   "execution_count": 18,
   "metadata": {},
   "outputs": [],
   "source": [
    "df['accountOpenDays'] = (pd.datetime.now()-pd.to_datetime(df['accountOpenDate'])).dt.days\n",
    "df['addressChangedBeforeDays'] =  (pd.datetime.now()-pd.to_datetime(df['dateOfLastAddressChange'])).dt.days\n",
    "df['cardExpiryDays'] = abs((pd.to_datetime(df['dateOfLastAddressChange'])-(pd.datetime.now())).dt.days)\n"
   ]
  },
  {
   "cell_type": "code",
   "execution_count": 19,
   "metadata": {},
   "outputs": [
    {
     "data": {
      "image/png": "[encoded data removed]",
      "text/plain": [
       "<Figure size 720x720 with 2 Axes>"
      ]
     },
     "metadata": {},
     "output_type": "display_data"
    }
   ],
   "source": [
    "# Correlation between the numerical variables in the data\n",
    "import seaborn as sns\n",
    "sns.set(style=\"white\")\n",
    "numerical_columns = ['creditLimit','transactionAmount','currentBalance','availableMoney','accountOpenDays','addressChangedBeforeDays','cardExpiryDays']\n",
    "\n",
    "df_corr = df[numerical_columns] \n",
    "corr = df_corr.corr() \n",
    "mask = np.zeros_like(corr, dtype=np.bool)\n",
    "mask[np.triu_indices_from(mask)] = True\n",
    "f, ax = plt.subplots(figsize=(10, 10))\n",
    "cmap = sns.diverging_palette(220, 10, as_cmap=True)\n",
    "sns.heatmap(corr, mask=mask, cmap=cmap, vmax=.3, center=0,\n",
    "            square=True, linewidths=.5, cbar_kws={\"shrink\": .5})\n",
    "plt.show()\n"
   ]
  },
  {
   "cell_type": "markdown",
   "metadata": {},
   "source": [
    "From the above correlation map, it is obvious that the credLimit is highly correlated with availableMoney and currentBalance.\n",
    "So we can use one of those in our features and ignore the other two. We can also see that the cardExpiryDays, addressChangedBeforeDays and accountOpenDays are strongly correlated. "
   ]
  },
  {
   "cell_type": "code",
   "execution_count": 20,
   "metadata": {},
   "outputs": [],
   "source": [
    "# the three variables which were correlated are reduced into one variable which is the percentage of available money\n",
    "df['availableMoneyRatio'] = df['availableMoney']/df['creditLimit']\n",
    "\n",
    "# the three variables which were related to account opening, address changed after opening and the card expiry is being reduced\n",
    "# to one varibale and calculating the account activity with respect to address change. \n",
    "df['accountActiveRatio'] = (df['cardExpiryDays']-df['addressChangedBeforeDays'])/df['accountOpenDays']\n"
   ]
  },
  {
   "cell_type": "code",
   "execution_count": 21,
   "metadata": {},
   "outputs": [
    {
     "data": {
      "text/plain": [
       "False    5742\n",
       "True      195\n",
       "Name: isFraud, dtype: int64"
      ]
     },
     "execution_count": 21,
     "metadata": {},
     "output_type": "execute_result"
    }
   ],
   "source": [
    "# Comparing the number of fraudulant transactions when the cvv was entered incorrectly \n",
    "df[~(df['cardCVV']==df['enteredCVV'])]['isFraud'].value_counts()"
   ]
  },
  {
   "cell_type": "markdown",
   "metadata": {},
   "source": [
    "The number of incorrect CVV entered has been most in the case of a non fraudulant transaction than a fraudulant one. "
   ]
  },
  {
   "cell_type": "code",
   "execution_count": 22,
   "metadata": {},
   "outputs": [],
   "source": [
    "from sklearn import preprocessing\n",
    "\n",
    "# columns = ['creditLimit','availableMoney','transactionAmount','merchantName','currentBalance','acqCountry','merchantCountryCode','posEntryMode','posConditionCode','merchantCategoryCode','transactionType','cardPresent','expirationDateKeyInMatch']\n",
    "numerical_columns = ['availableMoneyRatio','transactionAmount','accountActiveRatio']\n",
    "\n",
    "# df = df[numerical_columns]\n",
    "for i in numerical_columns:\n",
    "    df[i]=(df[i]-df[i].mean())/df[i].std()\n"
   ]
  },
  {
   "cell_type": "code",
   "execution_count": 23,
   "metadata": {},
   "outputs": [
    {
     "name": "stdout",
     "output_type": "stream",
     "text": [
      "The number of Fraud Transactions is : 11302\n",
      "The number of Non-Fraud Transactions is : 630612\n"
     ]
    }
   ],
   "source": [
    "df_fraud = df[df['isFraud']==True]\n",
    "df_non_fraud = df[df['isFraud']==False]\n",
    "print(\"The number of Fraud Transactions is :\", df_fraud.shape[0])\n",
    "print(\"The number of Non-Fraud Transactions is :\", df_non_fraud.shape[0])"
   ]
  },
  {
   "cell_type": "code",
   "execution_count": 24,
   "metadata": {},
   "outputs": [],
   "source": [
    "#undersampling the Non-Fraud Transactions\n",
    "df_non_fraud = df_non_fraud.sample(14000,random_state=4)\n",
    "df_data = pd.concat([df_fraud,df_non_fraud],axis = 0)\n",
    "df_data.isFraud = df_data.isFraud.astype(int)"
   ]
  },
  {
   "cell_type": "code",
   "execution_count": 25,
   "metadata": {},
   "outputs": [],
   "source": [
    "categorical_sample = df_data[categorical_columns]\n",
    "finalData = pd.concat([df_data[numerical_columns],categorical_sample],axis = 1)"
   ]
  },
  {
   "cell_type": "code",
   "execution_count": 26,
   "metadata": {},
   "outputs": [],
   "source": [
    "# without oversampling \n",
    "from sklearn.model_selection import train_test_split\n",
    "Xtrain1,Xtest1,ytrain1,ytest1 = train_test_split(finalData,df_data.isFraud,test_size=0.2,random_state=10)"
   ]
  },
  {
   "cell_type": "code",
   "execution_count": 27,
   "metadata": {},
   "outputs": [],
   "source": [
    "from sklearn.ensemble import GradientBoostingClassifier\n",
    "clf1 = GradientBoostingClassifier(n_estimators=150, learning_rate=0.3,max_depth=3, random_state=0).fit(Xtrain1, ytrain1)\n",
    "pred = clf1.predict(Xtest1)"
   ]
  },
  {
   "cell_type": "code",
   "execution_count": 28,
   "metadata": {},
   "outputs": [
    {
     "name": "stdout",
     "output_type": "stream",
     "text": [
      "              precision    recall  f1-score   support\n",
      "\n",
      "           0       0.74      0.77      0.75      2810\n",
      "           1       0.69      0.66      0.68      2251\n",
      "\n",
      "    accuracy                           0.72      5061\n",
      "   macro avg       0.72      0.71      0.71      5061\n",
      "weighted avg       0.72      0.72      0.72      5061\n",
      "\n",
      "[[2159  651]\n",
      " [ 771 1480]]\n"
     ]
    }
   ],
   "source": [
    "from sklearn.metrics import classification_report\n",
    "from sklearn.metrics import confusion_matrix\n",
    "\n",
    "print(classification_report(ytest1,pred))\n",
    "print(confusion_matrix(ytest1,pred))"
   ]
  },
  {
   "cell_type": "code",
   "execution_count": 29,
   "metadata": {},
   "outputs": [],
   "source": [
    "# oversampling using SMOTE\n",
    "from imblearn.over_sampling import SMOTE,ADASYN\n",
    "\n",
    "df1 = pd.concat([df[numerical_columns],df[categorical_columns]],axis = 1)\n",
    "X_resampled, y_resampled = SMOTE().fit_resample(df1,df.isFraud)\n",
    "y_resampled = y_resampled.astype(int)"
   ]
  },
  {
   "cell_type": "code",
   "execution_count": 30,
   "metadata": {},
   "outputs": [],
   "source": [
    "from sklearn.model_selection import train_test_split\n",
    "Xtrain,Xtest,ytrain,ytest = train_test_split(X_resampled,y_resampled,test_size=0.2,random_state=10)"
   ]
  },
  {
   "cell_type": "code",
   "execution_count": 31,
   "metadata": {},
   "outputs": [],
   "source": [
    "from sklearn.ensemble import GradientBoostingClassifier\n",
    "clf = GradientBoostingClassifier(n_estimators=150, learning_rate=0.3,max_depth=3, random_state=0).fit(Xtrain, ytrain)\n",
    "pred = clf.predict(Xtest)\n",
    "pred_prob = clf.predict_proba(Xtest)"
   ]
  },
  {
   "cell_type": "code",
   "execution_count": 34,
   "metadata": {},
   "outputs": [
    {
     "name": "stdout",
     "output_type": "stream",
     "text": [
      "              precision    recall  f1-score   support\n",
      "\n",
      "           0       0.84      0.85      0.85    125964\n",
      "           1       0.85      0.84      0.84    126281\n",
      "\n",
      "    accuracy                           0.85    252245\n",
      "   macro avg       0.85      0.85      0.85    252245\n",
      "weighted avg       0.85      0.85      0.85    252245\n",
      "\n"
     ]
    }
   ],
   "source": [
    "from sklearn.metrics import classification_report\n",
    "from sklearn.metrics import confusion_matrix\n",
    "\n",
    "print(classification_report(ytest,pred))\n"
   ]
  },
  {
   "cell_type": "code",
   "execution_count": 42,
   "metadata": {},
   "outputs": [
    {
     "name": "stdout",
     "output_type": "stream",
     "text": [
      "[[107695  18269]\n",
      " [ 20764 105517]]\n"
     ]
    }
   ],
   "source": [
    "#confusion matrix\n",
    "cm = confusion_matrix(ytest,pred)\n",
    "print(cm)"
   ]
  },
  {
   "cell_type": "code",
   "execution_count": 33,
   "metadata": {},
   "outputs": [
    {
     "data": {
      "text/plain": [
       "0.8452697728873765"
      ]
     },
     "execution_count": 33,
     "metadata": {},
     "output_type": "execute_result"
    }
   ],
   "source": [
    "import numpy as np\n",
    "from sklearn.metrics import roc_auc_score\n",
    "roc_auc_score(ytest, pred)"
   ]
  },
  {
   "cell_type": "markdown",
   "metadata": {},
   "source": [
    "The credit card dataset contains 29 features. The feature engineering was done separately for two types of variables.\n",
    "    1. Numerical features\n",
    "    2. Categorical features\n",
    "1. Numerical - The features which were very useful was the creditLimit and the transactionAmount. The creditLimit, availableBalance and currentBalance were highly correlated to each other. The ratio of the availableBalance and the creditLimit was used as one of the features along with the transactionAmount. \n",
    "    The other set of features which were very useful for leanring were accountOpenDays, addressChangedBeforeDays, cardExpiryDays. These three features were also highly correlated and the ratio of the difference between the cardExpiryDays,addressChangedBeforeDays and accountOpenDays was used as a feature.\n",
    "    All the numerical features were normalized with zero mean and one standard deviation.\n",
    "    The other features which were not useful was the cardCVV and the enteredCVV. This was because most of the incorrect enteredCVV was present in the transactions which were not fraud.\n",
    "2. The categorical features importance was calculated by chi square test. It is a test to check the independence of two events. Features needs to be selected which are highly dependent on the target variable. The features merchantName,posEntryMode,posConditionCode,cardPresent were useful in training.\n",
    "\n",
    "To tackle the imbalanced sets, two things were done.\n",
    "    1. Undersampling\n",
    "    2. Oversampling\n",
    "   \n",
    "1. The number of transactions which were non-fraudulant was way higher than the fraud transactions. So in order to balance the classes. The number of non fradulant transactions was reduced in size closer to fradulant transactions and the model was built.\n",
    "2. The dataset was oversampled. SMOTE synthesises new minority instances between existing minority instances.\n",
    "\n",
    "The model that was used to train the data was the GradientBoostingClassifier. \n",
    "\n",
    "I would do the following with more time\n",
    "1. Try out other models like lightGBM and XGboost.\n",
    "2. Would have tried out K-Fold cross validation to train on different samples of the data and find the best fit.\n",
    "3. Would have tried parameter tuning using grid search.\n",
    "4. Would have tried to learn the data with a neural network."
   ]
  }
 ],
 "metadata": {
  "kernelspec": {
   "display_name": "Python 3",
   "language": "python",
   "name": "python3"
  },
  "language_info": {
   "codemirror_mode": {
    "name": "ipython",
    "version": 3
   },
   "file_extension": ".py",
   "mimetype": "text/x-python",
   "name": "python",
   "nbconvert_exporter": "python",
   "pygments_lexer": "ipython3",
   "version": "3.7.6"
  }
 },
 "nbformat": 4,
 "nbformat_minor": 2
}
